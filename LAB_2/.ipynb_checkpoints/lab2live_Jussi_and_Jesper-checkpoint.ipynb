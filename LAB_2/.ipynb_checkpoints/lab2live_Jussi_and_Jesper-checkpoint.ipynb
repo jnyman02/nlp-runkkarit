{
 "cells": [
  {
   "cell_type": "code",
   "execution_count": null,
   "id": "b9f2ecdb-f108-47a5-b832-86a5d596f80e",
   "metadata": {},
   "outputs": [],
   "source": [
    "# This code is the work of Jussi Saariniemi and Jesper Nyman"
   ]
  },
  {
   "cell_type": "code",
   "execution_count": null,
   "id": "bbb7f8be-408c-4276-b519-d6dd92efdb6a",
   "metadata": {},
   "outputs": [],
   "source": [
    "import json\n",
    "import nltk"
   ]
  },
  {
   "cell_type": "code",
   "execution_count": null,
   "id": "3445189e-12e7-4482-8b33-5021159c004b",
   "metadata": {},
   "outputs": [],
   "source": [
    "def readJson(path):\n",
    "    with open(path, 'r') as file:\n",
    "        data = json.load(file)\n",
    "    return data"
   ]
  },
  {
   "cell_type": "code",
   "execution_count": null,
   "id": "e1458551-d0e5-4555-886f-f4268921b3a7",
   "metadata": {},
   "outputs": [],
   "source": [
    "def constructInvertedIndex(abstracts):\n",
    "    invertedIndex = {}\n",
    "    for abstract in abstracts:\n",
    "        for keyword in abstract['keywords']:\n",
    "            if keyword not in invertedIndex:\n",
    "                invertedIndex[keyword] = []\n",
    "            invertedIndex[keyword].append(abstract)\n",
    "\n",
    "    return invertedIndex"
   ]
  },
  {
   "cell_type": "code",
   "execution_count": null,
   "id": "44e88029-53ec-46d2-8714-75eee54b52c1",
   "metadata": {},
   "outputs": [],
   "source": [
    "def editSimilarity(query, InvertedIndex):\n",
    "    keywords = []\n",
    "    querys = query.split(\" \")\n",
    "    for key in InvertedIndex:\n",
    "        distances = []\n",
    "        distances.append(nltk.edit_distance(query, key))\n",
    "        for part in querys:\n",
    "            distances.append(nltk.edit_distance(key, part))\n",
    "        distance = min(distances)\n",
    "        keywords.append((key, distance))\n",
    "\n",
    "    return keywords"
   ]
  },
  {
   "cell_type": "code",
   "execution_count": null,
   "id": "22c0df2f-5135-4e21-a096-dfc090828ef4",
   "metadata": {},
   "outputs": [],
   "source": [
    "def distancesToAlphabetical(keywordsDistances):\n",
    "    return sorted(keywordsDistances, key=lambda x: x[0])"
   ]
  },
  {
   "cell_type": "code",
   "execution_count": null,
   "id": "5f0bfe0e-9b57-4ebb-bd53-75e8b32f9e7b",
   "metadata": {},
   "outputs": [],
   "source": [
    "def printDistances(keywordsDistances, query):\n",
    "    print(\"Distance of each keyword to the query: \" + query + \"\\n\")\n",
    "    for keyword, distance in keywordsDistances:\n",
    "        print(\"Keyword: \" + keyword + \" Distance: \" + str(distance))"
   ]
  },
  {
   "cell_type": "code",
   "execution_count": null,
   "id": "a14da545-5d1d-44e2-8ca4-8773b69c47d7",
   "metadata": {},
   "outputs": [],
   "source": [
    "def titleAndKeyowordSimiliarity(abstracts):\n",
    "    titleSimilarities = []\n",
    "\n",
    "    for abstract in abstracts:\n",
    "        title = abstract['title']\n",
    "        titleSplit = title.split(\" \")\n",
    "        keywords = abstract['keywords']\n",
    "        allDistances = []\n",
    "        for keyword in keywords:\n",
    "            distances = {keyword: []}\n",
    "            distances.append(nltk.edit_distance(title, keyword))\n",
    "            for part in titleSplit:\n",
    "                distances.append(nltk.edit_distance(keyword, part))\n",
    "            allDistances.append((keyword, min(distances)))\n",
    "        titleSimilarities.append((title, allDistances))"
   ]
  },
  {
   "cell_type": "code",
   "execution_count": null,
   "id": "d6887ca5-4a2d-4aa6-9ed1-1687cc14fb8f",
   "metadata": {},
   "outputs": [],
   "source": [
    "def printTitleDistances(titleSimilarities):\n",
    "    print(\"Distance of each keyword to the title of the abstract: \\n\")\n",
    "    for title, distances in titleSimilarities:\n",
    "        print(\"Title: \" + title)\n",
    "        for keyword, distance in distances:\n",
    "            print(\"Keyword: \" + keyword + \" Distance: \" + str(distance))\n",
    "        print(\"\\n\")"
   ]
  },
  {
   "cell_type": "code",
   "execution_count": null,
   "id": "adeffd43-b7e1-495e-8365-3896ac2e5910",
   "metadata": {},
   "outputs": [],
   "source": [
    "query = \"machine learning\"\n",
    "abstracts = readJson('./extracted_articles.json')\n",
    "invertedIndex = constructInvertedIndex(abstracts)\n",
    "print(invertedIndex)\n",
    "keywordsDistances = editSimilarity(query, invertedIndex)\n",
    "keywordsDistances = distancesToAlphabetical(keywordsDistances)\n",
    "printDistances(keywordsDistances, query)\n",
    "titleSimilarities = titleAndKeyowordSimiliarity(abstracts)\n",
    "printTitleDistances(titleSimilarities)"
   ]
  }
 ],
 "metadata": {
  "kernelspec": {
   "display_name": "Python 3 (ipykernel)",
   "language": "python",
   "name": "python3"
  },
  "language_info": {
   "codemirror_mode": {
    "name": "ipython",
    "version": 3
   },
   "file_extension": ".py",
   "mimetype": "text/x-python",
   "name": "python",
   "nbconvert_exporter": "python",
   "pygments_lexer": "ipython3",
   "version": "3.12.3"
  }
 },
 "nbformat": 4,
 "nbformat_minor": 5
}
