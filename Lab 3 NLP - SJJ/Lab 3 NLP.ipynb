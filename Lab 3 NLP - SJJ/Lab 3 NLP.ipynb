{
 "cells": [
  {
   "cell_type": "code",
   "execution_count": 15,
   "id": "1631759b-e72d-471c-b803-550086976831",
   "metadata": {},
   "outputs": [
    {
     "name": "stderr",
     "output_type": "stream",
     "text": [
      "[nltk_data] Downloading package wordnet to\n",
      "[nltk_data]     C:\\Users\\SW\\AppData\\Roaming\\nltk_data...\n"
     ]
    },
    {
     "data": {
      "text/plain": [
       "True"
      ]
     },
     "execution_count": 15,
     "metadata": {},
     "output_type": "execute_result"
    }
   ],
   "source": [
    "# Import similar libraries to the ones included in Python script file 3\n",
    "import nltk\n",
    "import numpy as np\n",
    "from nltk.corpus import genesis\n",
    "from nltk.corpus import wordnet as wn\n",
    "from nltk.tokenize import word_tokenize\n",
    "from nltk.stem.snowball import SnowballStemmer\n",
    "from sklearn.feature_extraction.text import TfidfVectorizer\n",
    "\n",
    "# download nltk wordnet\n",
    "nltk.download('wordnet')"
   ]
  },
  {
   "cell_type": "code",
   "execution_count": 38,
   "id": "fe35b4b7-6017-48be-a843-40478a5455d2",
   "metadata": {},
   "outputs": [],
   "source": [
    "# Make a function to calculate similarity of two STRINGS AND print it out\n",
    "# This will be useful since we will need to calculate many similarities\n",
    "def wu_sim_string(string1, string2):\n",
    "    # Get sysnets of given strings 1 and 2\n",
    "    sys1list = wn.synsets(string1)\n",
    "    sys2list = wn.synsets(string2)\n",
    "\n",
    "    # Run a for statements for each sysnet\n",
    "    for sys1 in sys1list:\n",
    "        for sys2 in sys2list:\n",
    "            print(f\"Similarity between {sys1} and {sys2}: {sys1.wup_similarity(sys2)}\")"
   ]
  },
  {
   "cell_type": "code",
   "execution_count": 95,
   "id": "dd81bce0-36bd-4dd9-ad27-e56b7fce5bc3",
   "metadata": {},
   "outputs": [],
   "source": [
    "# However, it may be more useful to calculate the wup similarity\n",
    "# if we already have the synset\n",
    "def wu_sim_syn(syn1, syn2):\n",
    "    similarity = syn1.wup_similarity(syn2)\n",
    "    #print(f\"Similarity between {syn1} and {syn2}: {similarity}\")\n",
    "    return similarity"
   ]
  },
  {
   "cell_type": "code",
   "execution_count": 57,
   "id": "9b58d100-95f9-4fe0-adb5-656f1739777c",
   "metadata": {},
   "outputs": [],
   "source": [
    "# Now we make a function to return S1, S2, and S3 for any given 2 strings\n",
    "def calculate_similarities(string1, string2):\n",
    "    sys1list = wn.synsets(string1)\n",
    "    sys2list = wn.synsets(string2)\n",
    "    # Create emmpty similarity variables\n",
    "    S1 = 0\n",
    "    S2 = 2\n",
    "    S3 = 0\n",
    "    number_of_syn = 0\n",
    "    for sys1 in sys1list:\n",
    "        for sys2 in sys2list:\n",
    "            tmp_sim = wu_sim_syn(sys1, sys2)\n",
    "            # Update needed values, no need for if statement\n",
    "            #https://www.geeksforgeeks.org/maximum-of-two-numbers-in-python/\n",
    "            S1 = max(S1, tmp_sim)\n",
    "            S2 = min(S2, tmp_sim)\n",
    "        S3 += tmp_sim\n",
    "        number_of_syn += 1\n",
    "    # Now calculate average for S3 and return\n",
    "    S3 = S3 / number_of_syn\n",
    "    print(\"\\nS1: \",S1)\n",
    "    print(\"\\nS2: \",S2)\n",
    "    print(\"\\nS3: \",S3)\n",
    "    return S1, S2, S3"
   ]
  },
  {
   "cell_type": "code",
   "execution_count": 81,
   "id": "98726d37-e4df-47f8-9de9-f7fa12120035",
   "metadata": {},
   "outputs": [],
   "source": [
    "# Same same but for the first hypernym of the given words\n",
    "def calculate_hypernym_similarities(string1, string2):\n",
    "    # We need to find the firsy hypernym of the given string\n",
    "    # wn.synsets(\"dog\")[0].hypernyms()[0]\n",
    "    sys1list = wn.synsets(string1)\n",
    "    sys2list = wn.synsets(string2)\n",
    "    # Create emmpty similarity variables\n",
    "    S1 = 0\n",
    "    S2 = 2\n",
    "    S3 = 0\n",
    "    number_of_syn = 0\n",
    "    for sys1 in sys1list:\n",
    "        for sys2 in sys2list:\n",
    "            tmp_sim = wu_sim_syn(sys1.hypernyms()[0], sys2.hypernyms()[0])\n",
    "            # Update needed values, no need for if statement\n",
    "            #https://www.geeksforgeeks.org/maximum-of-two-numbers-in-python/\n",
    "            S1 = max(S1, tmp_sim)\n",
    "            S2 = min(S2, tmp_sim)\n",
    "        S3 += tmp_sim\n",
    "        number_of_syn += 1\n",
    "    # Now calculate average for S3 and return\n",
    "    S3 = S3 / number_of_syn\n",
    "    print(\"\\nS1: \",S1)\n",
    "    print(\"\\nS2: \",S2)\n",
    "    print(\"\\nS3: \",S3)\n",
    "    return S1, S2, S3"
   ]
  },
  {
   "cell_type": "code",
   "execution_count": 81,
   "id": "d1891238-9a62-4bf5-8e1b-4b452727e286",
   "metadata": {},
   "outputs": [],
   "source": [
    "# Same same but for the first hypernym of the given words\n",
    "def calculate_hypernym_similarities(string1, string2):\n",
    "    # We need to find the firsy hypernym of the given string\n",
    "    # wn.synsets(\"dog\")[0].hypernyms()[0]\n",
    "    sys1list = wn.synsets(string1)\n",
    "    sys2list = wn.synsets(string2)\n",
    "    # Create emmpty similarity variables\n",
    "    S1 = 0\n",
    "    S2 = 2\n",
    "    S3 = 0\n",
    "    number_of_syn = 0\n",
    "    for sys1 in sys1list:\n",
    "        for sys2 in sys2list:\n",
    "            tmp_sim = wu_sim_syn(sys1.hypernyms()[0], sys2.hypernyms()[0])\n",
    "            # Update needed values, no need for if statement\n",
    "            #https://www.geeksforgeeks.org/maximum-of-two-numbers-in-python/\n",
    "            S1 = max(S1, tmp_sim)\n",
    "            S2 = min(S2, tmp_sim)\n",
    "        S3 += tmp_sim\n",
    "        number_of_syn += 1\n",
    "    # Now calculate average for S3 and return\n",
    "    S3 = S3 / number_of_syn\n",
    "    print(\"\\nS1: \",S1)\n",
    "    print(\"\\nS2: \",S2)\n",
    "    print(\"\\nS3: \",S3)\n",
    "    return S1, S2, S3"
   ]
  },
  {
   "cell_type": "code",
   "execution_count": 100,
   "id": "c592ee2d-9d19-4198-8826-6c9750098603",
   "metadata": {},
   "outputs": [],
   "source": [
    "# Same same but for the all hyponem of the given words\n",
    "def calculate_hyponym_similarities(string1, string2):\n",
    "    # We need to find the hyponym of the given string\n",
    "    sys1list = wn.synsets(string1)\n",
    "    sys2list = wn.synsets(string2)\n",
    "    # Create emmpty similarity variables\n",
    "    S1 = 0\n",
    "    S2 = 2\n",
    "    S3 = 0\n",
    "    number_of_syn = 0\n",
    "    for sys1 in sys1list:\n",
    "        for sys2 in sys2list:\n",
    "            # Now iterate for the hyponyms of given synset\n",
    "            for hypo1 in sys1.hyponyms():\n",
    "                for hypo2 in sys2.hyponyms():\n",
    "                    \n",
    "                    tmp_sim = wu_sim_syn(hypo1, hypo2)\n",
    "                    # Update needed values, no need for if statement\n",
    "                    #https://www.geeksforgeeks.org/maximum-of-two-numbers-in-python/\n",
    "                    S1 = max(S1, tmp_sim)\n",
    "                    S2 = min(S2, tmp_sim)\n",
    "                S3 += tmp_sim\n",
    "                number_of_syn += 1\n",
    "    # Now calculate average for S3 and return\n",
    "    S3 = S3 / number_of_syn\n",
    "    print(\"\\nS1: \",S1)\n",
    "    print(\"\\nS2: \",S2)\n",
    "    print(\"\\nS3: \",S3)\n",
    "    return S1, S2, S3"
   ]
  },
  {
   "cell_type": "code",
   "execution_count": 101,
   "id": "8fb9392b-03ee-4786-8044-0aadaa270748",
   "metadata": {},
   "outputs": [
    {
     "name": "stdout",
     "output_type": "stream",
     "text": [
      "\n",
      "S1:  0.96\n",
      "\n",
      "S2:  0.09523809523809523\n",
      "\n",
      "S3:  0.13357142857142856\n",
      "\n",
      "S1:  0.6666666666666666\n",
      "\n",
      "S2:  0.6086956521739131\n",
      "\n",
      "S3:  0.6238785369220107\n",
      "\n",
      "S1:  0.6666666666666666\n",
      "\n",
      "S2:  0.6086956521739131\n",
      "\n",
      "S3:  0.6238785369220107\n",
      "\n",
      "eval1:  0.96\n",
      "\n",
      "eval2:  0.6086956521739131\n",
      "\n",
      "eval3:  0.6238785369220107\n"
     ]
    }
   ],
   "source": [
    "string1 = \"car\"\n",
    "string2 = \"bus\"\n",
    "S1, S2, S3 = calculate_similarities(string1, string2)\n",
    "hyper1, hyper2, hyper3 = calculate_hypernym_similarities(string1, string2)\n",
    "hypo1, hypo2, hypo3 = calculate_hyponym_similarities(string1, string2)\n",
    "\n",
    "eval1, eval2, eval3 = max(S1, hyper1, hypo1), max(S2, hyper2, hypo2), max(S3, hyper3, hypo3)\n",
    "print(\"\\neval1: \",eval1)\n",
    "print(\"\\neval2: \",eval2)\n",
    "print(\"\\neval3: \",eval3)"
   ]
  },
  {
   "cell_type": "code",
   "execution_count": null,
   "id": "dc8210a2-0f02-47d7-8d79-21cd91fe335a",
   "metadata": {},
   "outputs": [],
   "source": []
  }
 ],
 "metadata": {
  "kernelspec": {
   "display_name": "Python 3 (ipykernel)",
   "language": "python",
   "name": "python3"
  },
  "language_info": {
   "codemirror_mode": {
    "name": "ipython",
    "version": 3
   },
   "file_extension": ".py",
   "mimetype": "text/x-python",
   "name": "python",
   "nbconvert_exporter": "python",
   "pygments_lexer": "ipython3",
   "version": "3.12.1"
  }
 },
 "nbformat": 4,
 "nbformat_minor": 5
}
