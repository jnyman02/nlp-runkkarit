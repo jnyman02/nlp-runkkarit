{
 "cells": [
  {
   "cell_type": "markdown",
   "metadata": {},
   "source": [
    "Code done by Serden-Yilmaz Kose, Jesper Nyman and Jussi Saariniemi"
   ]
  },
  {
   "cell_type": "markdown",
   "metadata": {},
   "source": [
    "Task 1"
   ]
  },
  {
   "cell_type": "code",
   "execution_count": 11,
   "metadata": {},
   "outputs": [],
   "source": [
    "import nltk\n",
    "import numpy as np\n",
    "from nltk.corpus import genesis\n",
    "from nltk.corpus import wordnet as wn\n",
    "from nltk.tokenize import word_tokenize\n",
    "from nltk.stem.snowball import SnowballStemmer\n",
    "from sklearn.feature_extraction.text import TfidfVectorizer\n",
    "import pandas as pd"
   ]
  },
  {
   "cell_type": "code",
   "execution_count": 39,
   "metadata": {},
   "outputs": [],
   "source": [
    "import pandas as pd\n",
    "\n",
    "path = \"./msr_paraphrase_corpus.csv\"\n",
    "data = pd.read_csv(path, sep=\";\", header = 0, on_bad_lines='skip')"
   ]
  },
  {
   "cell_type": "code",
   "execution_count": 40,
   "metadata": {},
   "outputs": [
    {
     "name": "stdout",
     "output_type": "stream",
     "text": [
      "   Quality      ID1      ID2  \\\n",
      "0        1   702876   702977   \n",
      "1        0  2108705  2108831   \n",
      "2        1  1330381  1330521   \n",
      "3        0  3344667  3344648   \n",
      "4        1  1236820  1236712   \n",
      "\n",
      "                                             String1  \\\n",
      "0  Amrozi accused his brother, whom he called \"th...   \n",
      "1  Yucaipa owned Dominick's before selling the ch...   \n",
      "2  They had published an advertisement on the Int...   \n",
      "3  Around 0335 GMT, Tab shares were up 19 cents, ...   \n",
      "4  The stock rose $2.11, or about 11 percent, to ...   \n",
      "\n",
      "                                             String2 Unnamed: 5  \n",
      "0  Referring to him as only \"the witness\", Amrozi...        NaN  \n",
      "1  Yucaipa bought Dominick's in 1995 for $693 mil...        NaN  \n",
      "2  On June 10, the ship's owners had published an...        NaN  \n",
      "3  Tab shares jumped 20 cents, or 4.6%, to set a ...        NaN  \n",
      "4  PG&E Corp. shares jumped $1.63 or 8 percent to...        NaN  \n"
     ]
    }
   ],
   "source": [
    "print(data.head())"
   ]
  },
  {
   "cell_type": "code",
   "execution_count": null,
   "metadata": {},
   "outputs": [],
   "source": [
    "nltk.download('stopwords')\n",
    "nltk.download('punkt')\n",
    "nltk.download('wordnet')\n",
    "nltk.download('genesis')"
   ]
  },
  {
   "cell_type": "code",
   "execution_count": 42,
   "metadata": {},
   "outputs": [],
   "source": [
    "genesis_ic = wn.ic(genesis, False, 0.0)\n",
    "\n",
    "def wup(S1, S2):\n",
    "    \"\"\"Wu-Palmer similarity.\"\"\"\n",
    "    return S1.wup_similarity(S2)\n",
    "\n",
    "def resnik(S1, S2):\n",
    "    \"\"\"Resnik similarity.\"\"\"\n",
    "    return S1.res_similarity(S2, genesis_ic)\n",
    "\n",
    "options = {0: wup, 1: resnik}\n",
    "\n",
    "def preProcess(sentence):\n",
    "    \"\"\"Tokenize, remove stopwords, and clean the sentence.\"\"\"\n",
    "    Stopwords = list(set(nltk.corpus.stopwords.words('english')))\n",
    "    words = word_tokenize(sentence)\n",
    "    words = [word.lower() for word in words if word.isalpha() and word not in Stopwords]\n",
    "    return words\n",
    "\n",
    "def get_wordnet_pos(word):\n",
    "    \"\"\"Map POS tag to first character for lemmatization with WordNet.\"\"\"\n",
    "    tag = nltk.pos_tag([word])[0][1][0].upper()\n",
    "    tag_dict = {\"J\": wn.ADJ, \"N\": wn.NOUN, \"V\": wn.VERB, \"R\": wn.ADV}\n",
    "    return tag_dict.get(tag, wn.NOUN)\n",
    "\n",
    "def word_similarity(w1, w2, num):\n",
    "    \"\"\"Calculate similarity between two words only if they share the same POS.\"\"\"\n",
    "    pos1 = get_wordnet_pos(w1)\n",
    "    pos2 = get_wordnet_pos(w2)\n",
    "\n",
    "    synsets1 = wn.synsets(w1, pos=pos1)\n",
    "    synsets2 = wn.synsets(w2, pos=pos2)\n",
    "    \n",
    "    if synsets1 and synsets2:\n",
    "        S1 = synsets1[0]\n",
    "        S2 = synsets2[0]\n",
    "        try:\n",
    "            similarity = options[num](S1, S2)\n",
    "            if similarity:\n",
    "                return round(similarity, 2)\n",
    "        except nltk.corpus.reader.wordnet.WordNetError:\n",
    "            return 0\n",
    "    return 0\n",
    "\n",
    "def Similarity(T1, T2, num):\n",
    "    \"\"\"Calculate sentence-to-sentence similarity using TF-IDF and WordNet similarity.\"\"\"\n",
    "    words1 = preProcess(T1)\n",
    "    words2 = preProcess(T2)\n",
    "\n",
    "    tf = TfidfVectorizer(use_idf=True)\n",
    "    tf.fit_transform([' '.join(words1), ' '.join(words2)])\n",
    "    \n",
    "    Idf = dict(zip(tf.get_feature_names_out(), tf.idf_))\n",
    "    \n",
    "    Sim_score1 = 0\n",
    "    Sim_score2 = 0\n",
    "\n",
    "    for w1 in words1:\n",
    "        Max = 0\n",
    "        for w2 in words2:\n",
    "            score = word_similarity(w1, w2, num)\n",
    "            if Max < score:\n",
    "                Max = score\n",
    "        Sim_score1 += Max * Idf.get(w1, 0)\n",
    "    Sim_score1 /= sum([Idf.get(w1, 0) for w1 in words1])\n",
    "\n",
    "    for w2 in words2:\n",
    "        Max = 0\n",
    "        for w1 in words1:\n",
    "            score = word_similarity(w1, w2, num)\n",
    "            if Max < score:\n",
    "                Max = score\n",
    "        Sim_score2 += Max * Idf.get(w2, 0)\n",
    "    Sim_score2 /= sum([Idf.get(w2, 0) for w2 in words2])\n",
    "\n",
    "    Sim = (Sim_score1 + Sim_score2) / 2\n",
    "    \n",
    "    return round(Sim, 2)"
   ]
  },
  {
   "cell_type": "code",
   "execution_count": 43,
   "metadata": {},
   "outputs": [
    {
     "name": "stdout",
     "output_type": "stream",
     "text": [
      "   Quality      ID1      ID2  \\\n",
      "0        1   702876   702977   \n",
      "1        0  2108705  2108831   \n",
      "2        1  1330381  1330521   \n",
      "3        0  3344667  3344648   \n",
      "4        1  1236820  1236712   \n",
      "\n",
      "                                             String1  \\\n",
      "0  Amrozi accused his brother, whom he called \"th...   \n",
      "1  Yucaipa owned Dominick's before selling the ch...   \n",
      "2  They had published an advertisement on the Int...   \n",
      "3  Around 0335 GMT, Tab shares were up 19 cents, ...   \n",
      "4  The stock rose $2.11, or about 11 percent, to ...   \n",
      "\n",
      "                                             String2 Unnamed: 5  \\\n",
      "0  Referring to him as only \"the witness\", Amrozi...        NaN   \n",
      "1  Yucaipa bought Dominick's in 1995 for $693 mil...        NaN   \n",
      "2  On June 10, the ship's owners had published an...        NaN   \n",
      "3  Tab shares jumped 20 cents, or 4.6%, to set a ...        NaN   \n",
      "4  PG&E Corp. shares jumped $1.63 or 8 percent to...        NaN   \n",
      "\n",
      "   Similarity score  \n",
      "0              0.75  \n",
      "1              0.54  \n",
      "2              0.69  \n",
      "3              0.72  \n",
      "4              0.72  \n"
     ]
    }
   ],
   "source": [
    "# Wup similarity\n",
    "\n",
    "data['Similarity score'] = 0.0\n",
    "\n",
    "for index, row in data.iterrows():\n",
    "        T1, T2 = str(row['String1']), str(row['String2'])\n",
    "        similarity_score = Similarity(T1, T2, 0)\n",
    "        data.at[index, 'Similarity score'] = similarity_score\n",
    "print(data.head())  \n",
    "        "
   ]
  },
  {
   "cell_type": "code",
   "execution_count": 48,
   "metadata": {},
   "outputs": [],
   "source": [
    "# To save the data, so we wont have to calculate the similarities again\n",
    "data.to_csv('msr_paraphrase_corpus_sim.csv', index=False, sep='|')"
   ]
  },
  {
   "cell_type": "code",
   "execution_count": 54,
   "metadata": {},
   "outputs": [],
   "source": [
    "path = \"./msr_paraphrase_corpus_sim.csv\"\n",
    "data = pd.read_csv(path, sep=\"|\", header = 0)"
   ]
  },
  {
   "cell_type": "code",
   "execution_count": 55,
   "metadata": {},
   "outputs": [
    {
     "name": "stdout",
     "output_type": "stream",
     "text": [
      "   Quality      ID1      ID2  \\\n",
      "0        1   702876   702977   \n",
      "1        0  2108705  2108831   \n",
      "2        1  1330381  1330521   \n",
      "3        0  3344667  3344648   \n",
      "4        1  1236820  1236712   \n",
      "\n",
      "                                             String1  \\\n",
      "0  Amrozi accused his brother, whom he called \"th...   \n",
      "1  Yucaipa owned Dominick's before selling the ch...   \n",
      "2  They had published an advertisement on the Int...   \n",
      "3  Around 0335 GMT, Tab shares were up 19 cents, ...   \n",
      "4  The stock rose $2.11, or about 11 percent, to ...   \n",
      "\n",
      "                                             String2  Similarity score  \n",
      "0  Referring to him as only \"the witness\", Amrozi...              0.75  \n",
      "1  Yucaipa bought Dominick's in 1995 for $693 mil...              0.54  \n",
      "2  On June 10, the ship's owners had published an...              0.69  \n",
      "3  Tab shares jumped 20 cents, or 4.6%, to set a ...              0.72  \n",
      "4  PG&E Corp. shares jumped $1.63 or 8 percent to...              0.72  \n"
     ]
    }
   ],
   "source": [
    "print(data.head())"
   ]
  },
  {
   "cell_type": "code",
   "execution_count": 57,
   "metadata": {},
   "outputs": [
    {
     "name": "stdout",
     "output_type": "stream",
     "text": [
      "Comparing the Quality and Similarity score:\n",
      "Pearson correlation coefficient: 0.257558139727016\n",
      "p-value: 4.654742450348613e-61\n"
     ]
    }
   ],
   "source": [
    "from scipy.stats import pearsonr\n",
    "\n",
    "cc, p = pearsonr(data['Quality'], data['Similarity score'])\n",
    "print(f\"Comparing the Quality and Wup similarity score:\")\n",
    "print(f\"Pearson correlation coefficient: {cc}\")\n",
    "print(f\"p-value: {p}\")\n"
   ]
  },
  {
   "cell_type": "markdown",
   "metadata": {},
   "source": [
    "Task 2"
   ]
  },
  {
   "cell_type": "code",
   "execution_count": 62,
   "metadata": {},
   "outputs": [
    {
     "name": "stdout",
     "output_type": "stream",
     "text": [
      "   Quality      ID1      ID2  \\\n",
      "0        1   702876   702977   \n",
      "1        0  2108705  2108831   \n",
      "2        1  1330381  1330521   \n",
      "3        0  3344667  3344648   \n",
      "4        1  1236820  1236712   \n",
      "\n",
      "                                             String1  \\\n",
      "0  Amrozi accused his brother, whom he called \"th...   \n",
      "1  Yucaipa owned Dominick's before selling the ch...   \n",
      "2  They had published an advertisement on the Int...   \n",
      "3  Around 0335 GMT, Tab shares were up 19 cents, ...   \n",
      "4  The stock rose $2.11, or about 11 percent, to ...   \n",
      "\n",
      "                                             String2  Similarity score  Wup  \\\n",
      "0  Referring to him as only \"the witness\", Amrozi...              0.75  0.0   \n",
      "1  Yucaipa bought Dominick's in 1995 for $693 mil...              0.54  0.0   \n",
      "2  On June 10, the ship's owners had published an...              0.69  0.0   \n",
      "3  Tab shares jumped 20 cents, or 4.6%, to set a ...              0.72  0.0   \n",
      "4  PG&E Corp. shares jumped $1.63 or 8 percent to...              0.72  0.0   \n",
      "\n",
      "          Resnik  \n",
      "0  2.379404e+299  \n",
      "1  2.434157e+299  \n",
      "2  4.598166e+299  \n",
      "3   6.130000e+00  \n",
      "4  3.251332e+299  \n"
     ]
    }
   ],
   "source": [
    "data['Resnik'] = 0.0\n",
    "\n",
    "for index, row in data.iterrows():\n",
    "        T1, T2 = str(row['String1']), str(row['String2'])\n",
    "        resnik_sim = Similarity(T1, T2, 1)\n",
    "        data.at[index, 'Resnik'] = resnik_sim\n",
    "print(data.head())"
   ]
  },
  {
   "cell_type": "code",
   "execution_count": 64,
   "metadata": {},
   "outputs": [],
   "source": [
    "data.to_csv('msr_paraphrase_corpus_sim_res.csv', index=False, sep='|')"
   ]
  },
  {
   "cell_type": "code",
   "execution_count": 65,
   "metadata": {},
   "outputs": [],
   "source": [
    "path = \"./msr_paraphrase_corpus_sim_res.csv\"\n",
    "data = pd.read_csv(path, sep=\"|\", header = 0)"
   ]
  },
  {
   "cell_type": "code",
   "execution_count": 66,
   "metadata": {},
   "outputs": [
    {
     "name": "stdout",
     "output_type": "stream",
     "text": [
      "Comparing the Quality and Resnik similarity score:\n",
      "Pearson correlation coefficient: 0.08501047640669863\n",
      "p-value: 8.370731431809998e-08\n"
     ]
    }
   ],
   "source": [
    "res_cc, res_p = pearsonr(data['Quality'], data['Resnik'])\n",
    "print(f\"Comparing the Quality and Resnik similarity score:\")\n",
    "print(f\"Pearson correlation coefficient: {res_cc}\")\n",
    "print(f\"p-value: {res_p}\")"
   ]
  },
  {
   "cell_type": "code",
   "execution_count": 67,
   "metadata": {},
   "outputs": [
    {
     "name": "stdout",
     "output_type": "stream",
     "text": [
      "Comparison between Wup and Resnik similiarity:\n",
      "     Type  Pearson correlation coefficient       p-value\n",
      "0     Wup                         0.257558  4.654742e-61\n",
      "1  Resnik                         0.085010  8.370731e-08\n"
     ]
    }
   ],
   "source": [
    "CC_table = {\n",
    "    \"Type\": [\"Wup\", \"Resnik\"],\n",
    "    \"Pearson correlation coefficient\": [cc, res_cc],\n",
    "    \"p-value\": [p, res_p]\n",
    "}\n",
    "CC_table = pd.DataFrame(CC_table)\n",
    "\n",
    "print(\"Comparison between Wup and Resnik similiarity:\")\n",
    "print(CC_table)\n"
   ]
  }
 ],
 "metadata": {
  "kernelspec": {
   "display_name": "Python 3",
   "language": "python",
   "name": "python3"
  },
  "language_info": {
   "codemirror_mode": {
    "name": "ipython",
    "version": 3
   },
   "file_extension": ".py",
   "mimetype": "text/x-python",
   "name": "python",
   "nbconvert_exporter": "python",
   "pygments_lexer": "ipython3",
   "version": "3.12.3"
  }
 },
 "nbformat": 4,
 "nbformat_minor": 2
}
