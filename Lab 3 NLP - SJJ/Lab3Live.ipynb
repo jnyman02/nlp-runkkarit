{
 "cells": [
  {
   "cell_type": "markdown",
   "metadata": {},
   "source": [
    "Code done by Serden-Yilmaz Kose, Jesper Nyman and Jussi Saariniemi"
   ]
  },
  {
   "cell_type": "markdown",
   "metadata": {},
   "source": [
    "## Task 1"
   ]
  },
  {
   "cell_type": "code",
   "execution_count": 7,
   "metadata": {},
   "outputs": [],
   "source": [
    "import nltk\n",
    "import numpy as np\n",
    "from nltk.corpus import genesis\n",
    "from nltk.corpus import wordnet as wn\n",
    "from nltk.tokenize import word_tokenize\n",
    "from nltk.stem.snowball import SnowballStemmer\n",
    "from sklearn.feature_extraction.text import TfidfVectorizer\n",
    "import pandas as pd"
   ]
  },
  {
   "cell_type": "code",
   "execution_count": 8,
   "metadata": {},
   "outputs": [],
   "source": [
    "import pandas as pd\n",
    "\n",
    "path = \"./msr_paraphrase_corpus.csv\"\n",
    "data = pd.read_csv(path, sep=\";\", header = 0, on_bad_lines='skip')"
   ]
  },
  {
   "cell_type": "code",
   "execution_count": null,
   "metadata": {},
   "outputs": [],
   "source": [
    "print(data.head())"
   ]
  },
  {
   "cell_type": "code",
   "execution_count": null,
   "metadata": {},
   "outputs": [],
   "source": [
    "nltk.download('stopwords')\n",
    "nltk.download('punkt')\n",
    "nltk.download('wordnet')\n",
    "nltk.download('genesis')\n",
    "\n",
    "nltk.download('punkt_tab')\n",
    "nltk.download('averaged_perceptron_tagger_eng')"
   ]
  },
  {
   "cell_type": "code",
   "execution_count": 11,
   "metadata": {},
   "outputs": [],
   "source": [
    "genesis_ic = wn.ic(genesis, False, 0.0)\n",
    "\n",
    "def wup(S1, S2):\n",
    "    \"\"\"Wu-Palmer similarity.\"\"\"\n",
    "    return S1.wup_similarity(S2)\n",
    "\n",
    "def resnik(S1, S2):\n",
    "    \"\"\"Resnik similarity.\"\"\"\n",
    "    return S1.res_similarity(S2, genesis_ic)\n",
    "\n",
    "options = {0: wup, 1: resnik}\n",
    "\n",
    "def preProcess(sentence):\n",
    "    \"\"\"Tokenize, remove stopwords, and clean the sentence.\"\"\"\n",
    "    Stopwords = list(set(nltk.corpus.stopwords.words('english')))\n",
    "    words = word_tokenize(sentence)\n",
    "    words = [word.lower() for word in words if word.isalpha() and word not in Stopwords]\n",
    "    return words\n",
    "\n",
    "def get_wordnet_pos(word):\n",
    "    \"\"\"Map POS tag to first character for lemmatization with WordNet.\"\"\"\n",
    "    tag = nltk.pos_tag([word])[0][1][0].upper()\n",
    "    tag_dict = {\"J\": wn.ADJ, \"N\": wn.NOUN, \"V\": wn.VERB, \"R\": wn.ADV}\n",
    "    return tag_dict.get(tag, wn.NOUN)\n",
    "\n",
    "def word_similarity(w1, w2, num):\n",
    "    \"\"\"Calculate similarity between two words only if they share the same POS.\"\"\"\n",
    "    pos1 = get_wordnet_pos(w1)\n",
    "    pos2 = get_wordnet_pos(w2)\n",
    "\n",
    "    synsets1 = wn.synsets(w1, pos=pos1)\n",
    "    synsets2 = wn.synsets(w2, pos=pos2)\n",
    "    \n",
    "    if synsets1 and synsets2:\n",
    "        S1 = synsets1[0]\n",
    "        S2 = synsets2[0]\n",
    "        try:\n",
    "            similarity = options[num](S1, S2)\n",
    "            if similarity:\n",
    "                return round(similarity, 2)\n",
    "        except nltk.corpus.reader.wordnet.WordNetError:\n",
    "            return 0\n",
    "    return 0\n",
    "\n",
    "def Similarity(T1, T2, num):\n",
    "    \"\"\"Calculate sentence-to-sentence similarity using TF-IDF and WordNet similarity.\"\"\"\n",
    "    words1 = preProcess(T1)\n",
    "    words2 = preProcess(T2)\n",
    "\n",
    "    tf = TfidfVectorizer(use_idf=True)\n",
    "    tf.fit_transform([' '.join(words1), ' '.join(words2)])\n",
    "    \n",
    "    Idf = dict(zip(tf.get_feature_names_out(), tf.idf_))\n",
    "    \n",
    "    Sim_score1 = 0\n",
    "    Sim_score2 = 0\n",
    "\n",
    "    for w1 in words1:\n",
    "        Max = 0\n",
    "        for w2 in words2:\n",
    "            score = word_similarity(w1, w2, num)\n",
    "            if Max < score:\n",
    "                Max = score\n",
    "        Sim_score1 += Max * Idf.get(w1, 0)\n",
    "    Sim_score1 /= sum([Idf.get(w1, 0) for w1 in words1])\n",
    "\n",
    "    for w2 in words2:\n",
    "        Max = 0\n",
    "        for w1 in words1:\n",
    "            score = word_similarity(w1, w2, num)\n",
    "            if Max < score:\n",
    "                Max = score\n",
    "        Sim_score2 += Max * Idf.get(w2, 0)\n",
    "    Sim_score2 /= sum([Idf.get(w2, 0) for w2 in words2])\n",
    "\n",
    "    Sim = (Sim_score1 + Sim_score2) / 2\n",
    "    \n",
    "    return round(Sim, 2)"
   ]
  },
  {
   "cell_type": "code",
   "execution_count": null,
   "metadata": {},
   "outputs": [],
   "source": [
    "# Wup similarity\n",
    "\n",
    "data['Similarity score'] = 0.0\n",
    "\n",
    "for index, row in data.iterrows():\n",
    "        T1, T2 = str(row['String1']), str(row['String2'])\n",
    "        similarity_score = Similarity(T1, T2, 0)\n",
    "        data.at[index, 'Similarity score'] = similarity_score\n",
    "print(data.head())  \n",
    "        "
   ]
  },
  {
   "cell_type": "code",
   "execution_count": 13,
   "metadata": {},
   "outputs": [],
   "source": [
    "# To save the data, so we wont have to calculate the similarities again\n",
    "data.to_csv('msr_paraphrase_corpus_sim.csv', index=False, sep='|')"
   ]
  },
  {
   "cell_type": "code",
   "execution_count": 12,
   "metadata": {},
   "outputs": [],
   "source": [
    "path = \"./msr_paraphrase_corpus_sim.csv\"\n",
    "data = pd.read_csv(path, sep=\"|\", header = 0)"
   ]
  },
  {
   "cell_type": "code",
   "execution_count": null,
   "metadata": {},
   "outputs": [],
   "source": [
    "print(data.head())"
   ]
  },
  {
   "cell_type": "code",
   "execution_count": null,
   "metadata": {},
   "outputs": [],
   "source": [
    "from scipy.stats import pearsonr\n",
    "\n",
    "cc, p = pearsonr(data['Quality'], data['Similarity score'])\n",
    "print(f\"Comparing the Quality and Wup similarity score:\")\n",
    "print(f\"Pearson correlation coefficient: {cc}\")\n",
    "print(f\"p-value: {p}\")\n"
   ]
  },
  {
   "cell_type": "markdown",
   "metadata": {},
   "source": [
    "## Task 2"
   ]
  },
  {
   "cell_type": "code",
   "execution_count": null,
   "metadata": {},
   "outputs": [],
   "source": [
    "data['Resnik'] = 0.0\n",
    "\n",
    "for index, row in data.iterrows():\n",
    "        T1, T2 = str(row['String1']), str(row['String2'])\n",
    "        resnik_sim = Similarity(T1, T2, 1)\n",
    "        data.at[index, 'Resnik'] = resnik_sim\n",
    "print(data.head())"
   ]
  },
  {
   "cell_type": "code",
   "execution_count": 18,
   "metadata": {},
   "outputs": [],
   "source": [
    "data.to_csv('msr_paraphrase_corpus_sim_res.csv', index=False, sep='|')"
   ]
  },
  {
   "cell_type": "code",
   "execution_count": 19,
   "metadata": {},
   "outputs": [],
   "source": [
    "path = \"./msr_paraphrase_corpus_sim_res.csv\"\n",
    "data = pd.read_csv(path, sep=\"|\", header = 0)"
   ]
  },
  {
   "cell_type": "code",
   "execution_count": null,
   "metadata": {},
   "outputs": [],
   "source": [
    "res_cc, res_p = pearsonr(data['Quality'], data['Resnik'])\n",
    "print(f\"Comparing the Quality and Resnik similarity score:\")\n",
    "print(f\"Pearson correlation coefficient: {res_cc}\")\n",
    "print(f\"p-value: {res_p}\")"
   ]
  },
  {
   "cell_type": "code",
   "execution_count": null,
   "metadata": {},
   "outputs": [],
   "source": [
    "CC_table = {\n",
    "    \"Type\": [\"Wup\", \"Resnik\"],\n",
    "    \"Pearson correlation coefficient\": [cc, res_cc],\n",
    "    \"p-value\": [p, res_p]\n",
    "}\n",
    "CC_table = pd.DataFrame(CC_table)\n",
    "\n",
    "print(\"Comparison between Wup and Resnik similiarity:\")\n",
    "print(CC_table)\n"
   ]
  },
  {
   "cell_type": "code",
   "execution_count": null,
   "metadata": {},
   "outputs": [],
   "source": []
  },
  {
   "cell_type": "code",
   "execution_count": null,
   "metadata": {},
   "outputs": [],
   "source": []
  },
  {
   "cell_type": "code",
   "execution_count": null,
   "metadata": {},
   "outputs": [],
   "source": []
  },
  {
   "cell_type": "markdown",
   "metadata": {},
   "source": [
    "## Task 5"
   ]
  },
  {
   "cell_type": "code",
   "execution_count": 20,
   "metadata": {},
   "outputs": [],
   "source": [
    "from scipy.spatial.distance import cosine\n",
    "from gensim.models import KeyedVectors\n",
    "from gensim.scripts.glove2word2vec import glove2word2vec\n",
    "import fasttext\n",
    "import fasttext.util\n",
    "\n",
    "# Load pre-trained word embeddings (Word2Vec, FastText, and GloVe) from the data folder\n",
    "word2vec = KeyedVectors.load_word2vec_format('data/GoogleNews-vectors-negative300.bin', binary=True)\n",
    "fasttext = fasttext.load_model('data/cc.en.300.bin')\n",
    "# glove2word2vec('data/glove.6B.300d.txt', 'data/glove.6B.300d.word2vec.txt')\n",
    "glove = KeyedVectors.load_word2vec_format('data/glove.6B.300d.txt', binary=False, no_header=True)"
   ]
  },
  {
   "cell_type": "code",
   "execution_count": 21,
   "metadata": {},
   "outputs": [],
   "source": [
    "def sentence_embedding(sentence, model):\n",
    "    words = preProcess(sentence)\n",
    "    embedding = np.mean([model[word] for word in words if word in model], axis=0)\n",
    "    return embedding\n",
    "\n",
    "def embedding_similarity(data, model):\n",
    "    similarities = []\n",
    "    for index, row in data.iterrows():\n",
    "        T1, T2 = str(row['String1']), str(row['String2'])\n",
    "        emb1 = sentence_embedding(T1, model)\n",
    "        emb2 = sentence_embedding(T2, model)\n",
    "        similarity = 1 - cosine(emb1, emb2)\n",
    "        similarities.append(similarity)\n",
    "    return similarities"
   ]
  },
  {
   "cell_type": "code",
   "execution_count": null,
   "metadata": {},
   "outputs": [],
   "source": [
    "# Compute similarities using Word2Vec, FastText, and GloVe\n",
    "data['Word2Vec'] = embedding_similarity(data, word2vec)\n",
    "data['FastText'] = embedding_similarity(data, fasttext)\n",
    "data['GloVe'] = embedding_similarity(data, glove)\n",
    "\n",
    "# Compute Pearson correlations for Word2Vec, FastText, and GloVe\n",
    "word2vec_cc, word2vec_p = pearsonr(data['Quality'], data['Word2Vec'])\n",
    "fasttext_cc, fasttext_p = pearsonr(data['Quality'], data['FastText'])\n",
    "glove_cc, glove_p = pearsonr(data['Quality'], data['GloVe'])\n",
    "\n",
    "print(f\"Word2Vec Pearson correlation coefficient: {word2vec_cc}, p-value: {word2vec_p}\")\n",
    "print(f\"FastText Pearson correlation coefficient: {fasttext_cc}, p-value: {fasttext_p}\")\n",
    "print(f\"GloVe Pearson correlation coefficient: {glove_cc}, p-value: {glove_p}\")"
   ]
  },
  {
   "cell_type": "markdown",
   "metadata": {},
   "source": [
    "## Task 6"
   ]
  },
  {
   "cell_type": "code",
   "execution_count": 23,
   "metadata": {},
   "outputs": [],
   "source": [
    "from fuzzywuzzy import fuzz"
   ]
  },
  {
   "cell_type": "code",
   "execution_count": null,
   "metadata": {},
   "outputs": [],
   "source": [
    "data['FuzzyWuzzy'] = data.apply(lambda x: fuzz.ratio(str(x['String1']), str(x['String2'])), axis=1)\n",
    "\n",
    "fuzzy_cc, fuzzy_p = pearsonr(data['Quality'], data['FuzzyWuzzy'])\n",
    "\n",
    "print(f\"FuzzyWuzzy Pearson correlation coefficient: {fuzzy_cc}, p-value: {fuzzy_p}\")"
   ]
  },
  {
   "cell_type": "code",
   "execution_count": null,
   "metadata": {},
   "outputs": [],
   "source": [
    "summary_table = {\n",
    "    \"Method\": [\"Word2Vec\", \"FastText\", \"GloVe\", \"FuzzyWuzzy\"],\n",
    "    \"Pearson correlation coefficient\": [word2vec_cc, fasttext_cc, glove_cc, fuzzy_cc],\n",
    "    \"p-value\": [word2vec_p, fasttext_p, glove_p, fuzzy_p]\n",
    "}\n",
    "\n",
    "summary_df = pd.DataFrame(summary_table)\n",
    "print(summary_df)"
   ]
  }
 ],
 "metadata": {
  "kernelspec": {
   "display_name": "Python 3",
   "language": "python",
   "name": "python3"
  },
  "language_info": {
   "codemirror_mode": {
    "name": "ipython",
    "version": 3
   },
   "file_extension": ".py",
   "mimetype": "text/x-python",
   "name": "python",
   "nbconvert_exporter": "python",
   "pygments_lexer": "ipython3",
   "version": "3.11.0"
  }
 },
 "nbformat": 4,
 "nbformat_minor": 4
}
